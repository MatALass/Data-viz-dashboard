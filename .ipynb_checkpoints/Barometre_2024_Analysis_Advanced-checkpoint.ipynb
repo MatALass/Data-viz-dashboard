{
 "cells": [
  {
   "cell_type": "markdown",
   "id": "43c2dc0e",
   "metadata": {},
   "source": [
    "# 2024 Digital Cultural & Sports Consumption — Exploratory Analysis\n",
    "\n",
    "This notebook explores the **2024 ARCOM barometer** on digital cultural and sports consumption in France.\n",
    "It covers data loading, dictionary parsing, cleaning, KPIs, demographic breakdowns, and **advanced insights**.\n",
    "\n",
    "**Files expected in the same folder:**\n",
    "- `2024-barometre-consommation.xlsx` — main microdata\n",
    "- `2024-datamap.xlsx` — dictionary (3 sheets: Level, VAR, TEXT)\n",
    "\n",
    "All visuals are produced with seaborn and matplotlib."
   ]
  },
  {
   "cell_type": "code",
   "execution_count": null,
   "id": "d5317cfe",
   "metadata": {},
   "outputs": [],
   "source": [
    "import pandas as pd\n",
    "import numpy as np\n",
    "import matplotlib.pyplot as plt\n",
    "import seaborn as sns\n",
    "import re\n",
    "import warnings\n",
    "\n",
    "warnings.simplefilter('ignore', category=FutureWarning)\n",
    "sns.set(style='whitegrid', palette='muted')\n",
    "pd.set_option('display.max_colwidth', 120)\n"
   ]
  },
  {
   "cell_type": "markdown",
   "id": "ac117169",
   "metadata": {},
   "source": [
    "## 1) Load data & dictionary"
   ]
  },
  {
   "cell_type": "code",
   "execution_count": null,
   "id": "60c17983",
   "metadata": {},
   "outputs": [],
   "source": [
    "# Paths (adjust if needed)\n",
    "DATA_PATH = '2024-barometre-consommation.xlsx'\n",
    "DICT_PATH = '2024-datamap.xlsx'\n",
    "\n",
    "# Load main dataset\n",
    "df = pd.read_excel(DATA_PATH)\n",
    "print(f'Dataset loaded: {df.shape[0]} rows, {df.shape[1]} columns')\n",
    "\n",
    "# Load dictionary (3 sheets)\n",
    "dm_level = pd.read_excel(DICT_PATH, sheet_name=0)   # general info (not used)\n",
    "dm_var   = pd.read_excel(DICT_PATH, sheet_name=1)   # variable metadata\n",
    "dm_text  = pd.read_excel(DICT_PATH, sheet_name=2)   # code labels\n",
    "\n",
    "# Normalize column names\n",
    "dm_var.columns  = [c.strip().upper() for c in dm_var.columns]\n",
    "dm_text.columns = [c.strip().upper() for c in dm_text.columns]\n",
    "\n",
    "# Build dictionary (VAR + TEXT)\n",
    "dict_vars = dm_var[['NAME', 'TYPE', 'LABELS', 'ANSWER']].copy()\n",
    "dict_vars.rename(columns={'LABELS': 'LABEL'}, inplace=True)\n",
    "dict_vars = dict_vars.dropna(subset=['NAME'])\n",
    "\n",
    "dict_text = dm_text[['NAME', 'CODE', 'VALUE', 'FR:L']].copy()\n",
    "\n",
    "merged_dict = dict_vars.merge(dict_text, on='NAME', how='left')\n",
    "print(f'Dictionary built: {merged_dict['NAME'].nunique()} unique variables')\n"
   ]
  },
  {
   "cell_type": "markdown",
   "id": "cb7d8b49",
   "metadata": {},
   "source": [
    "## 2) Helper functions"
   ]
  },
  {
   "cell_type": "code",
   "execution_count": null,
   "id": "a1e4e2a3",
   "metadata": {},
   "outputs": [],
   "source": [
    "# Show dictionary info for a variable or its family (prefix match)\n",
    "def describe_var(var_name):\n",
    "    res = merged_dict[merged_dict['NAME'].str.upper() == var_name.upper()]\n",
    "    if res.empty:\n",
    "        res = merged_dict[merged_dict['NAME'].apply(lambda x: var_name.upper().startswith(str(x).upper()))]\n",
    "    if res.empty:\n",
    "        print(f'Variable {var_name} not found in dictionary.')\n",
    "    else:\n",
    "        display(res[['NAME', 'TYPE', 'LABEL', 'CODE', 'VALUE', 'FR:L']].drop_duplicates())\n",
    "\n",
    "# Extract a question prefix (e.g., QBU7_r1_c3 -> QBU7)\n",
    "def find_prefix(col):\n",
    "    m = re.match(r'([A-Z]+[0-9A-Z]+)', col)\n",
    "    return m.group(1) if m else col\n"
   ]
  },
  {
   "cell_type": "markdown",
   "id": "7303586b",
   "metadata": {},
   "source": [
    "## 3) Identify thematic blocks (prefixes)"
   ]
  },
  {
   "cell_type": "code",
   "execution_count": null,
   "id": "f70d9d0a",
   "metadata": {},
   "outputs": [],
   "source": [
    "prefixes = pd.Series(df.columns).apply(find_prefix)\n",
    "prefix_counts = prefixes.value_counts().head(20)\n",
    "print('Top prefixes:')\n",
    "display(prefix_counts.to_frame('count'))\n"
   ]
  },
  {
   "cell_type": "code",
   "execution_count": null,
   "id": "e9f8db36",
   "metadata": {},
   "outputs": [],
   "source": [
    "# Define thematic groups by prefix\n",
    "culture_cols = [c for c in df.columns if c.startswith(('QBU', 'QBOL'))]\n",
    "sports_cols  = [c for c in df.columns if c.startswith('RS')]\n",
    "law_cols     = [c for c in df.columns if c.startswith('Q2')]\n",
    "demo_cols    = ['SEXE', 'AGE', 'CSP', 'AGGLO', 'REG']\n",
    "\n",
    "print(f'Culture cols: {len(culture_cols)} | Sport cols: {len(sports_cols)} | Law cols: {len(law_cols)}')\n"
   ]
  },
  {
   "cell_type": "markdown",
   "id": "21da6d29",
   "metadata": {},
   "source": [
    "## 4) Clean & ensure safe frame"
   ]
  },
  {
   "cell_type": "code",
   "execution_count": null,
   "id": "69f7b9b1",
   "metadata": {},
   "outputs": [],
   "source": [
    "# Remove constant columns; then copy to avoid SettingWithCopyWarning\n",
    "df = df.loc[:, df.nunique(dropna=False) > 1].copy()\n",
    "print(f'After cleaning: {df.shape[1]} columns remain')\n",
    "\n",
    "# Re-derive safe thematic lists on the cleaned df\n",
    "def safe_cols(prefixes):\n",
    "    return [c for c in df.columns if any(c.startswith(p) for p in prefixes)]\n",
    "\n",
    "culture_cols = safe_cols(['QBU', 'QBOL'])\n",
    "sports_cols  = safe_cols(['RS'])\n",
    "law_cols     = safe_cols(['Q2'])\n",
    "\n",
    "print(f'Culture cols: {len(culture_cols)} | Sport cols: {len(sports_cols)} | Law cols: {len(law_cols)}')\n"
   ]
  },
  {
   "cell_type": "markdown",
   "id": "c3783241",
   "metadata": {},
   "source": [
    "## 5) Build indicators (binary)"
   ]
  },
  {
   "cell_type": "code",
   "execution_count": null,
   "id": "6ed77c02",
   "metadata": {},
   "outputs": [],
   "source": [
    "if culture_cols:\n",
    "    df.loc[:, 'consume_culture'] = df[culture_cols].notna().any(axis=1).astype(int)\n",
    "else:\n",
    "    df.loc[:, 'consume_culture'] = 0\n",
    "\n",
    "if sports_cols:\n",
    "    df.loc[:, 'consume_sport'] = df[sports_cols].notna().any(axis=1).astype(int)\n",
    "else:\n",
    "    df.loc[:, 'consume_sport'] = 0\n",
    "\n",
    "if law_cols:\n",
    "    df.loc[:, 'illicit_access'] = df[law_cols].notna().any(axis=1).astype(int)\n",
    "else:\n",
    "    df.loc[:, 'illicit_access'] = 0\n",
    "\n",
    "print('Indicators created (consume_culture, consume_sport, illicit_access)')\n"
   ]
  },
  {
   "cell_type": "markdown",
   "id": "0cb7fbfc",
   "metadata": {},
   "source": [
    "## 6) Decode demographics (SEXE, AGE)"
   ]
  },
  {
   "cell_type": "code",
   "execution_count": null,
   "id": "376de98b",
   "metadata": {},
   "outputs": [],
   "source": [
    "# Map SEXE using FR:L labels from dictionary\n",
    "if 'SEXE' in df.columns:\n",
    "    sex_dict = dict_text[dict_text['NAME'].str.upper() == 'SEXE'].copy()\n",
    "    if not sex_dict.empty:\n",
    "        sex_dict = sex_dict.dropna(subset=['CODE', 'FR:L'])\n",
    "        sex_dict['CODE'] = sex_dict['CODE'].astype(int)\n",
    "        sex_map = sex_dict.set_index('CODE')['FR:L'].to_dict()\n",
    "        df.loc[:, 'SEXE_LABEL'] = df['SEXE'].map(sex_map).astype('string')\n",
    "        print(f'Mapped SEXE: {sex_map}')\n",
    "    else:\n",
    "        df.loc[:, 'SEXE_LABEL'] = df['SEXE'].astype('string')\n",
    "        print('No mapping found for SEXE — kept raw values.')\n",
    "else:\n",
    "    df.loc[:, 'SEXE_LABEL'] = pd.Series([pd.NA]*len(df), dtype='string')\n",
    "    print(\"Column 'SEXE' not found.\")\n",
    "\n",
    "# Age bands\n",
    "if 'AGE' in df.columns:\n",
    "    df.loc[:, 'AGE_BIN'] = pd.cut(\n",
    "        df['AGE'],\n",
    "        bins=[15, 24, 34, 44, 54, 64, 100],\n",
    "        labels=['16–24', '25–34', '35–44', '45–54', '55–64', '65+'],\n",
    "        include_lowest=True, right=True\n",
    "    )\n",
    "    print('AGE binned successfully.')\n",
    "else:\n",
    "    df.loc[:, 'AGE_BIN'] = pd.Series([pd.NA]*len(df), dtype='string')\n",
    "    print(\"Column 'AGE' not found.\")\n"
   ]
  },
  {
   "cell_type": "markdown",
   "id": "fc1a21c5",
   "metadata": {},
   "source": [
    "## 7) KPIs & demographic summaries"
   ]
  },
  {
   "cell_type": "code",
   "execution_count": null,
   "id": "340708ec",
   "metadata": {},
   "outputs": [],
   "source": [
    "kpi = {\n",
    "    'Culture consumers (%)': df['consume_culture'].mean() * 100,\n",
    "    'Sport viewers (%)': df['consume_sport'].mean() * 100,\n",
    "    'Illicit users (%)': df['illicit_access'].mean() * 100\n",
    "}\n",
    "display(pd.Series(kpi).round(1).to_frame('value'))\n",
    "\n",
    "demo_summary = (\n",
    "    df.groupby('SEXE_LABEL')[['consume_culture', 'consume_sport', 'illicit_access']]\n",
    "      .mean().mul(100).round(1)\n",
    ")\n",
    "age_summary = (\n",
    "    df.groupby('AGE_BIN', observed=True)[['consume_culture', 'consume_sport', 'illicit_access']]\n",
    "      .mean().mul(100).round(1)\n",
    ")\n",
    "display(demo_summary)\n",
    "display(age_summary)\n"
   ]
  },
  {
   "cell_type": "markdown",
   "id": "26d0d83b",
   "metadata": {},
   "source": [
    "## 8) Visualizations — Demographic profiles"
   ]
  },
  {
   "cell_type": "code",
   "execution_count": null,
   "id": "2dcc15c3",
   "metadata": {},
   "outputs": [],
   "source": [
    "# Gender bars\n",
    "plt.figure(figsize=(6,4))\n",
    "sns.barplot(x=demo_summary.index, y='consume_culture', data=demo_summary.reset_index())\n",
    "plt.title('Cultural Consumption by Gender (2024)')\n",
    "plt.ylabel('% of respondents')\n",
    "plt.xlabel('')\n",
    "plt.tight_layout()\n",
    "plt.show()\n",
    "\n",
    "plt.figure(figsize=(6,4))\n",
    "sns.barplot(x=demo_summary.index, y='consume_sport', data=demo_summary.reset_index())\n",
    "plt.title('Sport Consumption by Gender (2024)')\n",
    "plt.ylabel('% of respondents')\n",
    "plt.xlabel('')\n",
    "plt.tight_layout()\n",
    "plt.show()\n",
    "\n",
    "# Age bars\n",
    "plt.figure(figsize=(8,4))\n",
    "sns.barplot(x=age_summary.index, y='consume_culture', data=age_summary.reset_index())\n",
    "plt.title('Cultural Consumption by Age Group (2024)')\n",
    "plt.ylabel('% of respondents')\n",
    "plt.xlabel('Age group')\n",
    "plt.tight_layout()\n",
    "plt.show()\n",
    "\n",
    "plt.figure(figsize=(8,4))\n",
    "sns.barplot(x=age_summary.index, y='consume_sport', data=age_summary.reset_index())\n",
    "plt.title('Sport Consumption by Age Group (2024)')\n",
    "plt.ylabel('% of respondents')\n",
    "plt.xlabel('Age group')\n",
    "plt.tight_layout()\n",
    "plt.show()\n"
   ]
  },
  {
   "cell_type": "markdown",
   "id": "fbbf8d3d",
   "metadata": {},
   "source": [
    "## 9) Advanced insights"
   ]
  },
  {
   "cell_type": "code",
   "execution_count": null,
   "id": "aac28bd3",
   "metadata": {},
   "outputs": [],
   "source": [
    "# 9.1 Correlation between key indicators\n",
    "corr = df[['consume_culture', 'consume_sport', 'illicit_access']].corr()\n",
    "plt.figure(figsize=(4,3))\n",
    "sns.heatmap(corr, annot=True, fmt='.2f', vmin=-1, vmax=1, square=True, cbar=True)\n",
    "plt.title('Correlation — Culture / Sport / Illicit')\n",
    "plt.tight_layout()\n",
    "plt.show()\n",
    "\n",
    "# 9.2 Heatmap by Age x Gender for Culture and Sport\n",
    "pivot_culture = df.pivot_table(index='AGE_BIN', columns='SEXE_LABEL', values='consume_culture', aggfunc='mean')*100\n",
    "pivot_sport   = df.pivot_table(index='AGE_BIN', columns='SEXE_LABEL', values='consume_sport', aggfunc='mean')*100\n",
    "\n",
    "fig, axes = plt.subplots(1, 2, figsize=(10,4))\n",
    "sns.heatmap(pivot_culture, annot=True, fmt='.1f', ax=axes[0])\n",
    "axes[0].set_title('Culture — % consumers')\n",
    "axes[0].set_xlabel('Gender'); axes[0].set_ylabel('Age group')\n",
    "\n",
    "sns.heatmap(pivot_sport, annot=True, fmt='.1f', ax=axes[1])\n",
    "axes[1].set_title('Sport — % consumers')\n",
    "axes[1].set_xlabel('Gender'); axes[1].set_ylabel('')\n",
    "plt.tight_layout()\n",
    "plt.show()\n",
    "\n",
    "# 9.3 Combined profile: Culture & Sport (4-quadrant classification)\n",
    "df.loc[:, 'profile_cs'] = np.select(\n",
    "    [\n",
    "        (df['consume_culture']==1) & (df['consume_sport']==1),\n",
    "        (df['consume_culture']==1) & (df['consume_sport']==0),\n",
    "        (df['consume_culture']==0) & (df['consume_sport']==1),\n",
    "    ],\n",
    "    ['Both', 'Culture only', 'Sport only'],\n",
    "    default='Neither'\n",
    ")\n",
    "\n",
    "profile_share = (df.groupby(['AGE_BIN','SEXE_LABEL'])['profile_cs']\n",
    "                   .value_counts(normalize=True)\n",
    "                   .rename('share').reset_index())\n",
    "plt.figure(figsize=(10,5))\n",
    "sns.barplot(data=profile_share, x='AGE_BIN', y='share', hue='profile_cs')\n",
    "plt.title('Profile mix by Age group and Gender')\n",
    "plt.ylabel('Share of respondents')\n",
    "plt.xlabel('Age group')\n",
    "plt.legend(title='Profile')\n",
    "plt.tight_layout()\n",
    "plt.show()\n",
    "\n",
    "# 9.4 Illicit access by demographics\n",
    "illicit_demo = (\n",
    "    df.groupby(['AGE_BIN', 'SEXE_LABEL'])['illicit_access']\n",
    "      .mean().mul(100).rename('% illicit').reset_index()\n",
    ")\n",
    "plt.figure(figsize=(10,4))\n",
    "sns.barplot(data=illicit_demo, x='AGE_BIN', y='% illicit', hue='SEXE_LABEL')\n",
    "plt.title('Illicit Access by Age and Gender')\n",
    "plt.ylabel('% of respondents')\n",
    "plt.xlabel('Age group')\n",
    "plt.tight_layout()\n",
    "plt.show()\n"
   ]
  },
  {
   "cell_type": "markdown",
   "id": "45186c79",
   "metadata": {},
   "source": [
    "## 10) Storytelling summary\n",
    "\n",
    "**Key takeaways (illustrative):**\n",
    "- Digital cultural and sports consumption is widespread, with notable age gradients.\n",
    "- Younger cohorts tend to have higher sport engagement; cultural consumption is more evenly distributed.\n",
    "- A subset exhibits illicit access; differences are more visible in younger groups.\n",
    "- Combined profiles show clear clusters: Both, Culture only, Sport only, and Neither — useful for audience targeting.\n",
    "\n",
    "Next steps: refine indicators using the detailed questionnaire (e.g., content types, platforms), apply weights if provided, and validate assumptions with the official codebook."
   ]
  }
 ],
 "metadata": {
  "kernelspec": {
   "display_name": "Python 3",
   "language": "python",
   "name": "python3"
  },
  "language_info": {
   "name": "python"
  }
 },
 "nbformat": 4,
 "nbformat_minor": 5
}
