{
 "cells": [
  {
   "cell_type": "code",
   "execution_count": 2,
   "id": "83d3dca4-7691-42ec-b727-619f4744e34e",
   "metadata": {},
   "outputs": [
    {
     "name": "stdout",
     "output_type": "stream",
     "text": [
      "Index(['sexe', 'age', 'region', 'type_agglomeration', 'situation_personnelle',\n",
      "       'profession_principale', 'statut_emploi', 'frequence_internet',\n",
      "       'frequence_conso_culturelle', 'type_conso_legale_ou_illegale',\n",
      "       'evolution_conso_legale', 'gratuit_ou_payant',\n",
      "       'depense_mensuelle_culturelle', 'appareils_conso_musique_videos',\n",
      "       'appareils_conso_films_series', 'utilisation_vpn',\n",
      "       'utilisation_applis_crackees', 'utilisation_telechargement_streaming',\n",
      "       'reglages_dns', 'acces_services_payants',\n",
      "       'provenance_codes_acces_exterieurs', 'taille_foyer', 'nb_enfants',\n",
      "       'statut_foyer'],\n",
      "      dtype='object')\n"
     ]
    }
   ],
   "source": [
    "import pandas as pd\n",
    "\n",
    "df = pd.read_excel(\"barometre_clean.xlsx\")\n",
    "\n",
    "print(df.columns)\n"
   ]
  },
  {
   "cell_type": "code",
   "execution_count": 4,
   "id": "69013411-d95d-4abe-894a-e14bf97b4dc4",
   "metadata": {},
   "outputs": [
    {
     "name": "stdout",
     "output_type": "stream",
     "text": [
      "['Un homme' 'Une femme']\n"
     ]
    }
   ],
   "source": [
    "colonne = 'sexe'\n",
    "print(df[colonne].unique())"
   ]
  },
  {
   "cell_type": "code",
   "execution_count": 6,
   "id": "6b96d73a-2312-4d02-9d92-c365da6633fe",
   "metadata": {},
   "outputs": [],
   "source": [
    "remplacement = {\n",
    "    \"Un homme\": \"H\",\n",
    "    \"Une femme\": \"F\"\n",
    "}\n",
    "\n",
    "df[colonne] = df[colonne].replace(remplacement)"
   ]
  },
  {
   "cell_type": "code",
   "execution_count": 8,
   "id": "fedab6bd-37d4-4916-afcf-f23c1f68ddc8",
   "metadata": {},
   "outputs": [
    {
     "name": "stdout",
     "output_type": "stream",
     "text": [
      "['H' 'F']\n"
     ]
    }
   ],
   "source": [
    "print(df[colonne].unique())"
   ]
  },
  {
   "cell_type": "code",
   "execution_count": 10,
   "id": "a683200a-057f-41a3-94cd-b2b412536bb3",
   "metadata": {},
   "outputs": [
    {
     "name": "stdout",
     "output_type": "stream",
     "text": [
      "[52 56 40 49 50 35 44 65 41 63 60 64 59 36 42 54 45 32 33 37 38 55 47 61\n",
      " 25 57 46 26 23 27 48 51 62 31 53 58 29 18 28 20 34 22 21 30 24 19 16 69\n",
      " 76 43 98 75 71 67 39 15 80 68 66 78 73 70 72 77 81 17 74 82 90 79 88 83\n",
      " 86]\n"
     ]
    }
   ],
   "source": [
    "colonne = 'age'\n",
    "print(df[colonne].unique())"
   ]
  },
  {
   "cell_type": "code",
   "execution_count": 12,
   "id": "0c518471-43ff-45e6-a45c-60020a82c366",
   "metadata": {},
   "outputs": [
    {
     "name": "stdout",
     "output_type": "stream",
     "text": [
      "['Bourgogne-Franche-Comté' 'Île-de-France' 'Provence-Alpes-Côte d’Azur'\n",
      " 'Nouvelle-Aquitaine' 'Grand Est' 'Pays de la Loire'\n",
      " 'Auvergne-Rhône-Alpes' 'Occitanie' 'Hauts-de-France']\n"
     ]
    }
   ],
   "source": [
    "colonne = 'region'\n",
    "print(df[colonne].unique())"
   ]
  },
  {
   "cell_type": "code",
   "execution_count": 14,
   "id": "c39829cf-0e77-468e-b6ca-86222d12562d",
   "metadata": {},
   "outputs": [
    {
     "name": "stdout",
     "output_type": "stream",
     "text": [
      "['Vous êtes dans une autre situation (invalide, sans activité professionnelle...)'\n",
      " 'Vous exercez une activité professionnelle (actifs, apprentis, stagiaires)'\n",
      " 'Vous êtes chômeur ou chômeuse ayant déjà travaillé'\n",
      " 'Vous êtes à la retraite ou en pré-retraite'\n",
      " 'Vous êtes homme ou femme au foyer'\n",
      " 'Vous êtes collégien(ne), lycéen(ne) ou étudiant(e)'\n",
      " \"Vous êtes à la recherche d'un premier emploi\"]\n"
     ]
    }
   ],
   "source": [
    "colonne = 'situation_personnelle'\n",
    "print(df[colonne].unique())"
   ]
  },
  {
   "cell_type": "code",
   "execution_count": 20,
   "id": "dc22aa15-0045-4589-b35d-6d87163e7634",
   "metadata": {},
   "outputs": [],
   "source": [
    "remplacement = {\n",
    "    \"Vous êtes dans une autre situation (invalide, sans activité professionnelle...)\": \"autre\",\n",
    "    \"Vous exercez une activité professionnelle (actifs, apprentis, stagiaires)\" : \"actif\",\n",
    "    \"Vous êtes chômeur ou chômeuse ayant déjà travaillé\": \"chômeur\" ,\n",
    "    \"Vous êtes à la retraite ou en pré-retraite\": \"retraite\",\n",
    "    \"Vous êtes homme ou femme au foyer\": \"homme au foyer\",\n",
    "    \"Vous êtes collégien(ne), lycéen(ne) ou étudiant(e)\": \"étudiant\",\n",
    "    \"Vous êtes à la recherche d'un premier emploi\": \"Primo-demandeur\"\n",
    "}\n",
    "\n",
    "df[colonne] = df[colonne].replace(remplacement)"
   ]
  },
  {
   "cell_type": "code",
   "execution_count": 22,
   "id": "b5af92d5-0566-4ad7-92fe-bbc698e328d5",
   "metadata": {},
   "outputs": [
    {
     "name": "stdout",
     "output_type": "stream",
     "text": [
      "['autre' 'actif' 'chômeur' 'retraite' 'homme au foyer' 'étudiant'\n",
      " 'Primo-demandeur']\n"
     ]
    }
   ],
   "source": [
    "print(df[colonne].unique())"
   ]
  },
  {
   "cell_type": "code",
   "execution_count": 24,
   "id": "b7a5e1e9-3c88-4e0c-9c45-0bbbcbb082be",
   "metadata": {},
   "outputs": [
    {
     "name": "stdout",
     "output_type": "stream",
     "text": [
      "['Uniquement de façon légale' nan 'Généralement légale, parfois illégale'\n",
      " 'Autant légale qu’illégale' 'Généralement illégale, parfois légale'\n",
      " 'Uniquement de manière illégale']\n"
     ]
    }
   ],
   "source": [
    "colonne = 'type_conso_legale_ou_illegale'\n",
    "print(df[colonne].unique())"
   ]
  },
  {
   "cell_type": "code",
   "execution_count": 26,
   "id": "0411b0df-4fce-46ff-93cd-19408a281477",
   "metadata": {},
   "outputs": [],
   "source": [
    "remplacement = {\n",
    "    \"Uniquement de façon légale\": \"Légale\",\n",
    "    \"Généralement légale, parfois illégale\": \"Souvent légale\",\n",
    "    \"Autant légale qu’illégale\": \"Autant\",\n",
    "    \"Généralement illégale, parfois légale\": \"Souvent illégale\",\n",
    "    \"Uniquement de manière illégale\": \"Illégale\"\n",
    "}\n",
    "\n",
    "df[colonne] = df[colonne].replace(remplacement)"
   ]
  },
  {
   "cell_type": "code",
   "execution_count": 28,
   "id": "6d83b2ce-ecc7-4165-8b05-2616348403b3",
   "metadata": {},
   "outputs": [
    {
     "name": "stdout",
     "output_type": "stream",
     "text": [
      "['Légale' nan 'Souvent légale' 'Autant' 'Souvent illégale' 'Illégale']\n"
     ]
    }
   ],
   "source": [
    "print(df[colonne].unique())"
   ]
  },
  {
   "cell_type": "code",
   "execution_count": 30,
   "id": "e5f49524-90e3-44e2-8013-b5a05e27f392",
   "metadata": {},
   "outputs": [
    {
     "name": "stdout",
     "output_type": "stream",
     "text": [
      "['Consomme autant de façon légale qu’avant'\n",
      " 'Consomme davantage de façon légale qu’avant' nan\n",
      " 'Consomme moins de façon légale qu’avant'\n",
      " 'Ne consomme pas du tout de manière légale']\n"
     ]
    }
   ],
   "source": [
    "colonne = 'evolution_conso_legale'\n",
    "print(df[colonne].unique())"
   ]
  },
  {
   "cell_type": "code",
   "execution_count": 44,
   "id": "37a11e5e-6cb6-42d3-8484-27eb1cc452fd",
   "metadata": {},
   "outputs": [],
   "source": [
    "remplacement = {\n",
    "    \"Consomme autant de façon légale qu’avant\": \"autant légale\",\n",
    "    \"Consomme davantage de façon légale qu’avant\": \"davantage légale\",\n",
    "    \"Consomme moins de façon légale qu’avant\": \"moins légale\",\n",
    "    \"Ne consomme pas du tout de manière légale\": \"pas légale\"\n",
    "}\n",
    "\n",
    "df[colonne] = df[colonne].replace(remplacement)"
   ]
  },
  {
   "cell_type": "code",
   "execution_count": 46,
   "id": "fb707bdd-8319-4300-aa22-f4b19a2c47b1",
   "metadata": {},
   "outputs": [
    {
     "name": "stdout",
     "output_type": "stream",
     "text": [
      "['autant légale' 'davantage légale' nan 'moins légale' 'pas légale']\n"
     ]
    }
   ],
   "source": [
    "print(df[colonne].unique())"
   ]
  },
  {
   "cell_type": "code",
   "execution_count": 124,
   "id": "ff1c72ff-6a4e-4b0d-b52e-611366d10147",
   "metadata": {},
   "outputs": [
    {
     "name": "stdout",
     "output_type": "stream",
     "text": [
      "[nan 'gratuit'\n",
      " 'Le plus souvent gratuitement, mais parfois de façon payante' 'payante'\n",
      " 'autant' 'souvent payante']\n"
     ]
    }
   ],
   "source": [
    "colonne = 'gratuit_ou_payant'\n",
    "print(df[colonne].unique())"
   ]
  },
  {
   "cell_type": "code",
   "execution_count": 130,
   "id": "56e2070e-6408-4aaf-af4d-25cf49d37691",
   "metadata": {},
   "outputs": [],
   "source": [
    "remplacement = {\n",
    "    \"Uniquement gratuitement\": \"gratuit\",\n",
    "    \"Le plus souvent gratuitement, mais parfois de façon payante\": \"souvent gratuit\",\n",
    "    \"Autant gratuitement que de façon payante\": \"autant\",\n",
    "    \"Uniquement de façon payante\": \"payante\",\n",
    "    \"Le plus souvent de façon payante, mais parfois gratuitement\": \"souvent payante\"\n",
    "}\n",
    "\n",
    "df[colonne] = df[colonne].replace(remplacement)"
   ]
  },
  {
   "cell_type": "code",
   "execution_count": 132,
   "id": "01efdc17-a8bd-4585-b83e-3a4ef9ceaa79",
   "metadata": {},
   "outputs": [
    {
     "name": "stdout",
     "output_type": "stream",
     "text": [
      "[nan 'gratuit' 'souvent gratuit' 'payante' 'autant' 'souvent payante']\n"
     ]
    }
   ],
   "source": [
    "print(df[colonne].unique())"
   ]
  },
  {
   "cell_type": "code",
   "execution_count": 52,
   "id": "ac782be1-3f74-4995-b71c-2a8122f2ab79",
   "metadata": {},
   "outputs": [
    {
     "name": "stdout",
     "output_type": "stream",
     "text": [
      "[nan 'Sur d’autres appareils']\n"
     ]
    }
   ],
   "source": [
    "colonne = 'appareils_conso_films_series'\n",
    "print(df[colonne].unique())"
   ]
  },
  {
   "cell_type": "code",
   "execution_count": 54,
   "id": "92c3634a-079d-4c55-8d11-985f959690a3",
   "metadata": {},
   "outputs": [
    {
     "name": "stdout",
     "output_type": "stream",
     "text": [
      "['Non, vous n’avez jamais utilisé de VPN à titre personnel'\n",
      " 'Oui, vous avez occasionnellement utilisé un VPN à titre personnel au cours des 12 derniers mois'\n",
      " 'Oui, vous avez régulièrement utilisé un VPN à titre personnel au cours des 12 derniers mois'\n",
      " 'Non, mais vous avez déjà utilisé un VPN par le passé à titre personnel']\n"
     ]
    }
   ],
   "source": [
    "colonne = 'utilisation_vpn'\n",
    "print(df[colonne].unique())"
   ]
  },
  {
   "cell_type": "code",
   "execution_count": 68,
   "id": "2a2b3b4c-92da-4e6c-969e-882c45413845",
   "metadata": {},
   "outputs": [],
   "source": [
    "remplacement = {\n",
    "    \"Non, vous n’avez jamais utilisé de VPN à titre personnel\": \"jamais\",\n",
    "    \"Oui, vous avez occasionnellement utilisé un VPN à titre personnel au cours des 12 derniers mois\": \"occasionnellement\",\n",
    "    \"Oui, vous avez régulièrement utilisé un VPN à titre personnel au cours des 12 derniers mois\": \"régulièrement\",\n",
    "    \"Non, mais vous avez déjà utilisé un VPN par le passé à titre personnel\": \"ancien utilisateur\"\n",
    "}\n",
    "\n",
    "df[colonne] = df[colonne].replace(remplacement)"
   ]
  },
  {
   "cell_type": "code",
   "execution_count": 70,
   "id": "a379b359-ec15-4e3d-9179-54ea00302454",
   "metadata": {},
   "outputs": [
    {
     "name": "stdout",
     "output_type": "stream",
     "text": [
      "['jamais' 'occasionnellement' 'régulièrement' 'ancien utilisateur']\n"
     ]
    }
   ],
   "source": [
    "print(df[colonne].unique())"
   ]
  },
  {
   "cell_type": "code",
   "execution_count": 72,
   "id": "83b291d5-ed04-47cf-beaa-8d4e4879f679",
   "metadata": {},
   "outputs": [
    {
     "name": "stdout",
     "output_type": "stream",
     "text": [
      "[nan 'Non'\n",
      " 'Des applis crackées permettant l’accès gratuit à une offre payante de chaînes de télévision (Canal+, beIN, etc.)']\n"
     ]
    }
   ],
   "source": [
    "colonne = 'utilisation_applis_crackees'\n",
    "print(df[colonne].unique())"
   ]
  },
  {
   "cell_type": "code",
   "execution_count": 74,
   "id": "1f24a116-fec0-4096-a124-39bd4e39f49e",
   "metadata": {},
   "outputs": [],
   "source": [
    "remplacement = {\n",
    "    \"Des applis crackées permettant l’accès gratuit à une offre payante de chaînes de télévision (Canal+, beIN, etc.)\": \"Oui\"\n",
    "}\n",
    "\n",
    "df[colonne] = df[colonne].replace(remplacement)"
   ]
  },
  {
   "cell_type": "code",
   "execution_count": 76,
   "id": "af7d9fe0-6527-40fb-a061-5204515a9150",
   "metadata": {},
   "outputs": [
    {
     "name": "stdout",
     "output_type": "stream",
     "text": [
      "[nan 'Non' 'Oui']\n"
     ]
    }
   ],
   "source": [
    "print(df[colonne].unique())"
   ]
  },
  {
   "cell_type": "code",
   "execution_count": 78,
   "id": "54ccefb9-3a11-459d-877e-571f74f29967",
   "metadata": {},
   "outputs": [
    {
     "name": "stdout",
     "output_type": "stream",
     "text": [
      "[nan 'Autant gratuitement que de façon payante' 'Uniquement gratuitement'\n",
      " 'Uniquement de façon payante'\n",
      " 'Le plus souvent de façon payante, mais parfois gratuitement'\n",
      " 'Le plus souvent gratuitement, mais parfois de façon payante']\n"
     ]
    }
   ],
   "source": [
    "colonne = 'utilisation_telechargement_streaming'\n",
    "print(df[colonne].unique())"
   ]
  },
  {
   "cell_type": "code",
   "execution_count": 80,
   "id": "4ee4b55e-ec10-4dad-959e-4ed778ba8e29",
   "metadata": {},
   "outputs": [],
   "source": [
    "remplacement = {\n",
    "    \"Autant gratuitement que de façon payante\": \"Autant\",\n",
    "    \"Uniquement gratuitement\": \"Gratuit\",\n",
    "    \"Le plus souvent de façon payante, mais parfois gratuitement\": \"souvent payante\",\n",
    "    \"Le plus souvent gratuitement, mais parfois de façon payante\": \"souvent gratuit\",\n",
    "    \"Uniquement de façon payante\": \"payante\"\n",
    "}\n",
    "\n",
    "df[colonne] = df[colonne].replace(remplacement)"
   ]
  },
  {
   "cell_type": "code",
   "execution_count": 82,
   "id": "a65aa245-d6ba-4cfd-affa-9a7397c8725f",
   "metadata": {},
   "outputs": [
    {
     "name": "stdout",
     "output_type": "stream",
     "text": [
      "['Je bénéficie d’un compte d’une personne extérieure à mon foyer' nan\n",
      " 'J’y suis abonné au sein de mon foyer'\n",
      " 'Je n’ai pas accès à ce type d’abonnement'\n",
      " 'J’y suis abonné au sein de mon foyer, Je bénéficie d’un compte d’une personne extérieure à mon foyer, Je n’ai pas accès à ce type d’abonnement'\n",
      " 'J’y suis abonné au sein de mon foyer, Je n’ai pas accès à ce type d’abonnement'\n",
      " 'Je bénéficie d’un compte d’une personne extérieure à mon foyer, Je n’ai pas accès à ce type d’abonnement'\n",
      " 'J’y suis abonné au sein de mon foyer, Je bénéficie d’un compte d’une personne extérieure à mon foyer']\n"
     ]
    }
   ],
   "source": [
    "colonne = 'acces_services_payants'\n",
    "print(df[colonne].unique())"
   ]
  },
  {
   "cell_type": "code",
   "execution_count": 92,
   "id": "abec4d0a-4d93-4196-ae21-fc1d3b7523de",
   "metadata": {},
   "outputs": [],
   "source": [
    "remplacement = {\n",
    "    \"Je bénéficie d’un compte d’une personne extérieure à mon foyer\": \"compte partagé\",\n",
    "    \"J’y suis abonné au sein de mon foyer\": \"abonné\",\n",
    "    \"Je n’ai pas accès à ce type d’abonnement\": \"Non\",\n",
    "    \"J’y suis abonné au sein de mon foyer, Je bénéficie d’un compte d’une personne extérieure à mon foyer, Je n’ai pas accès à ce type d’abonnement\": \"abonné\",\n",
    "    \"J’y suis abonné au sein de mon foyer, Je n’ai pas accès à ce type d’abonnement\": \"abonné\",\n",
    "    \"Je bénéficie d’un compte d’une personne extérieure à mon foyer, Je n’ai pas accès à ce type d’abonnement\": \"compte partagé\",\n",
    "    \"J’y suis abonné au sein de mon foyer, Je bénéficie d’un compte d’une personne extérieure à mon foyer\": \"abonné\"\n",
    "}\n",
    "\n",
    "df[colonne] = df[colonne].replace(remplacement)"
   ]
  },
  {
   "cell_type": "code",
   "execution_count": 94,
   "id": "20e0e4ad-5643-4085-8154-233bc68bd058",
   "metadata": {},
   "outputs": [
    {
     "name": "stdout",
     "output_type": "stream",
     "text": [
      "['compte partagé' nan 'abonné' 'Non']\n"
     ]
    }
   ],
   "source": [
    "print(df[colonne].unique())"
   ]
  },
  {
   "cell_type": "code",
   "execution_count": 96,
   "id": "21ff2f63-1d7a-4643-b6a1-a609626d8ccf",
   "metadata": {},
   "outputs": [
    {
     "name": "stdout",
     "output_type": "stream",
     "text": [
      "['Des membres de ma famille' nan\n",
      " 'Des amis, Des codes trouvés gratuitement sur Internet' 'Des amis'\n",
      " 'Des membres de ma famille, Des amis'\n",
      " 'Des codes trouvés gratuitement sur Internet'\n",
      " 'Des amis, Des codes trouvés gratuitement sur Internet, D’autres personnes'\n",
      " 'Des membres de ma famille, Des codes trouvés gratuitement sur Internet'\n",
      " 'Des membres de ma famille, D’autres personnes'\n",
      " 'Des membres de ma famille, Des amis, Des codes trouvés gratuitement sur Internet'\n",
      " 'D’autres personnes'\n",
      " 'Des membres de ma famille, Des codes trouvés gratuitement sur Internet, D’autres personnes'\n",
      " 'Des membres de ma famille, Des amis, Des codes trouvés gratuitement sur Internet, D’autres personnes'\n",
      " 'Des codes trouvés gratuitement sur Internet, D’autres personnes'\n",
      " 'Des amis, D’autres personnes'\n",
      " 'Des membres de ma famille, Des amis, D’autres personnes']\n"
     ]
    }
   ],
   "source": [
    "colonne = 'provenance_codes_acces_exterieurs'\n",
    "print(df[colonne].unique())"
   ]
  },
  {
   "cell_type": "code",
   "execution_count": 98,
   "id": "1a65567b-35e3-43d8-aae5-a082f1a6a4fa",
   "metadata": {},
   "outputs": [
    {
     "name": "stdout",
     "output_type": "stream",
     "text": [
      "[nan 'Sur un ordinateur, Sur un smartphone'\n",
      " 'Sur un smartphone, Sur une tablette, Sur une console de jeu portable (Nintendo Switch, DS, PS Vita)'\n",
      " 'Sur un smartphone, Sur une tablette' 'Sur un ordinateur'\n",
      " 'Sur un ordinateur, Sur un smartphone, Sur une tablette'\n",
      " 'Sur un ordinateur, Sur une tablette, Sur une console de jeu portable (Nintendo Switch, DS, PS Vita)'\n",
      " 'Sur un ordinateur, Sur un smartphone, Sur une tablette, Sur une console de jeu portable (Nintendo Switch, DS, PS Vita)'\n",
      " 'Sur un ordinateur, Sur un smartphone, Sur une console de jeu portable (Nintendo Switch, DS, PS Vita)'\n",
      " 'Sur un smartphone'\n",
      " 'Sur une console de jeu portable (Nintendo Switch, DS, PS Vita)'\n",
      " 'Sur un ordinateur, Sur une console de jeu portable (Nintendo Switch, DS, PS Vita)'\n",
      " 'Sur un smartphone, Sur une console de jeu portable (Nintendo Switch, DS, PS Vita)'\n",
      " 'Sur un ordinateur, Sur une tablette'\n",
      " 'Sur une tablette, Sur une console de jeu portable (Nintendo Switch, DS, PS Vita)'\n",
      " 'Sur une tablette']\n"
     ]
    }
   ],
   "source": [
    "colonne = 'appareils_conso_musique_videos'\n",
    "print(df[colonne].unique())"
   ]
  },
  {
   "cell_type": "code",
   "execution_count": 100,
   "id": "d342e05f-d208-40b5-b784-271098da8cf0",
   "metadata": {},
   "outputs": [
    {
     "name": "stdout",
     "output_type": "stream",
     "text": [
      "['Vous êtes célibataire' 'Vous vivez en couple'\n",
      " 'Vous êtes un enfant vivant chez vos parents']\n"
     ]
    }
   ],
   "source": [
    "colonne = 'statut_foyer'\n",
    "print(df[colonne].unique())"
   ]
  },
  {
   "cell_type": "code",
   "execution_count": 102,
   "id": "4bd93ab8-81b6-48b6-a412-6dac2bb3bf2b",
   "metadata": {},
   "outputs": [],
   "source": [
    "remplacement = {\n",
    "    \"Vous êtes célibataire\": \"célibataire\",\n",
    "    \"Vous vivez en couple\": \"couple\",\n",
    "    \"Vous êtes un enfant vivant chez vos parents\": \"enfant\"\n",
    "}\n",
    "\n",
    "df[colonne] = df[colonne].replace(remplacement)"
   ]
  },
  {
   "cell_type": "code",
   "execution_count": 112,
   "id": "6c847a00-120e-4a23-991a-5c9e66d75a78",
   "metadata": {},
   "outputs": [],
   "source": [
    "import pandas as pd\n",
    "import numpy as np\n",
    "\n",
    "df['provenance_codes_acces_exterieurs'] = (\n",
    "    df['provenance_codes_acces_exterieurs']\n",
    "    .astype(str)  # force tout en string (évite le float NaN)\n",
    "    .replace('nan', '')  # remplace le mot 'nan' résultant de la conversion\n",
    "    .str.split(',')  # sépare en liste\n",
    "    .apply(lambda x: [i.strip() for i in x if i.strip() != ''])  # nettoie les espaces\n",
    ")\n",
    "\n",
    "df['appareils_conso_musique_videos'] = (\n",
    "    df['appareils_conso_musique_videos']\n",
    "    .astype(str)\n",
    "    .replace('nan', '')\n",
    "    .str.split(',')\n",
    "    .apply(lambda x: [i.strip() for i in x if i.strip() != ''])\n",
    ")\n",
    "\n",
    "\n",
    "# Exploser les listes en colonnes indicatrices (one-hot encoding)\n",
    "df_exploded = df['provenance_codes_acces_exterieurs'].explode()\n",
    "dummies = pd.get_dummies(df_exploded).groupby(level=0).sum()\n",
    "\n",
    "df_other = df['appareils_conso_musique_videos'].explode()\n",
    "dummies_2 = pd.get_dummies(df_other).groupby(level=0).sum()\n",
    "\n",
    "df = pd.concat([df, dummies], axis=1)\n",
    "df = pd.concat([df, dummies_2], axis=1)\n",
    "\n",
    "def simplifier_provenance(reponses):\n",
    "    if isinstance(reponses, float) or not reponses:\n",
    "        return np.nan\n",
    "    if \"Des codes trouvés gratuitement sur Internet\" in reponses:\n",
    "        return \"internet\"\n",
    "    elif \"Des amis\" in reponses or \"Des membres de ma famille\" in reponses:\n",
    "        return \"proches\"\n",
    "    elif \"D’autres personnes\" in reponses:\n",
    "        return \"autres\"\n",
    "    return \"autres\"\n",
    "\n",
    "df['provenance_simplifiee'] = df['provenance_codes_acces_exterieurs'].apply(simplifier_provenance)\n",
    "\n"
   ]
  },
  {
   "cell_type": "code",
   "execution_count": null,
   "id": "88cf7429-007f-45a2-bfdd-fa83d572160a",
   "metadata": {},
   "outputs": [],
   "source": []
  },
  {
   "cell_type": "code",
   "execution_count": null,
   "id": "b5137c2a-92d1-4cf0-9a16-f71fa4691793",
   "metadata": {},
   "outputs": [],
   "source": []
  },
  {
   "cell_type": "code",
   "execution_count": null,
   "id": "a7106f2b-935d-41c5-a8fd-d6a1772df4b0",
   "metadata": {},
   "outputs": [],
   "source": []
  },
  {
   "cell_type": "code",
   "execution_count": null,
   "id": "0504c784-11fb-41f9-8fde-c0406bba9173",
   "metadata": {},
   "outputs": [],
   "source": []
  },
  {
   "cell_type": "code",
   "execution_count": null,
   "id": "5a9ddf17-999e-44b7-af3f-c0ed5290a305",
   "metadata": {},
   "outputs": [],
   "source": []
  },
  {
   "cell_type": "code",
   "execution_count": null,
   "id": "73df0c2d-10fb-48e9-bd8f-805cf6514571",
   "metadata": {},
   "outputs": [],
   "source": []
  },
  {
   "cell_type": "code",
   "execution_count": null,
   "id": "cd5a5cff-765b-4531-9c4d-135dc50163a2",
   "metadata": {},
   "outputs": [],
   "source": []
  },
  {
   "cell_type": "code",
   "execution_count": null,
   "id": "9bea8e20-8d34-470c-92c6-c20828ea4e43",
   "metadata": {},
   "outputs": [],
   "source": []
  },
  {
   "cell_type": "code",
   "execution_count": null,
   "id": "7f175ed5-84da-466c-875c-e98b391ea7b2",
   "metadata": {},
   "outputs": [],
   "source": []
  },
  {
   "cell_type": "code",
   "execution_count": null,
   "id": "7b90d963-bca6-4f1a-abab-d0122d1138d1",
   "metadata": {},
   "outputs": [],
   "source": []
  },
  {
   "cell_type": "code",
   "execution_count": null,
   "id": "4e5f988d-7b7e-4c37-9445-45e257819ab3",
   "metadata": {},
   "outputs": [],
   "source": []
  },
  {
   "cell_type": "code",
   "execution_count": null,
   "id": "7d0c2414-f190-45f3-9571-e102c206e354",
   "metadata": {},
   "outputs": [],
   "source": []
  },
  {
   "cell_type": "code",
   "execution_count": null,
   "id": "defe6269-7e0d-46e0-86d0-fc4430cf9e05",
   "metadata": {},
   "outputs": [],
   "source": []
  },
  {
   "cell_type": "code",
   "execution_count": null,
   "id": "e8c1ac02-c79d-4239-9d52-65149d2e0ba8",
   "metadata": {},
   "outputs": [],
   "source": []
  },
  {
   "cell_type": "code",
   "execution_count": 118,
   "id": "f5471a42-caa9-463f-9562-ff203dfd2b5a",
   "metadata": {},
   "outputs": [
    {
     "name": "stdout",
     "output_type": "stream",
     "text": [
      "✅ Columns kept: 22\n",
      "<class 'pandas.core.frame.DataFrame'>\n",
      "RangeIndex: 5040 entries, 0 to 5039\n",
      "Data columns (total 22 columns):\n",
      " #   Column                                Non-Null Count  Dtype  \n",
      "---  ------                                --------------  -----  \n",
      " 0   sexe                                  5040 non-null   object \n",
      " 1   age                                   5040 non-null   int64  \n",
      " 2   region                                5040 non-null   object \n",
      " 3   type_agglomeration                    5040 non-null   object \n",
      " 4   situation_personnelle                 5040 non-null   object \n",
      " 5   profession_principale                 4222 non-null   object \n",
      " 6   statut_emploi                         3178 non-null   object \n",
      " 7   frequence_internet                    5040 non-null   object \n",
      " 8   frequence_conso_culturelle            2902 non-null   object \n",
      " 9   type_conso_legale_ou_illegale         2902 non-null   object \n",
      " 10  evolution_conso_legale                4598 non-null   object \n",
      " 11  gratuit_ou_payant                     2048 non-null   object \n",
      " 12  depense_mensuelle_culturelle          3227 non-null   float64\n",
      " 13  appareils_conso_films_series          1645 non-null   object \n",
      " 14  utilisation_vpn                       5040 non-null   object \n",
      " 15  utilisation_applis_crackees           3540 non-null   object \n",
      " 16  utilisation_telechargement_streaming  3540 non-null   object \n",
      " 17  reglages_dns                          5040 non-null   object \n",
      " 18  acces_services_payants                3226 non-null   object \n",
      " 19  taille_foyer                          5040 non-null   object \n",
      " 20  nb_enfants                            5040 non-null   object \n",
      " 21  statut_foyer                          5040 non-null   object \n",
      "dtypes: float64(1), int64(1), object(20)\n",
      "memory usage: 866.4+ KB\n",
      "None\n"
     ]
    }
   ],
   "source": [
    "cols_keep = [\n",
    "    \"sexe\", \"age\", \"region\", \"type_agglomeration\",\n",
    "    \"situation_personnelle\", \"profession_principale\", \"statut_emploi\",\n",
    "    \"frequence_internet\", \"frequence_conso_culturelle\",\n",
    "    \"type_conso_legale_ou_illegale\", \"evolution_conso_legale\",\n",
    "    \"gratuit_ou_payant\", \"depense_mensuelle_culturelle\", \"appareils_conso_films_series\",\n",
    "    \"utilisation_vpn\", \"utilisation_applis_crackees\",\n",
    "    \"utilisation_telechargement_streaming\", \"reglages_dns\",\n",
    "    \"acces_services_payants\",\n",
    "    \"taille_foyer\", \"nb_enfants\", \"statut_foyer\"\n",
    "]\n",
    "\n",
    "df = df[[c for c in cols_keep if c in df.columns]].copy()\n",
    "\n",
    "print(f\"✅ Columns kept: {len(df.columns)}\")\n",
    "print(df.info())"
   ]
  },
  {
   "cell_type": "code",
   "execution_count": 134,
   "id": "eea19866-5b04-43b8-840e-102c69c2b6fa",
   "metadata": {},
   "outputs": [],
   "source": [
    "# Sauvegarder dans un nouveau fichier Excel\n",
    "df.to_excel(\"file_better.xlsx\", engine=\"openpyxl\")"
   ]
  },
  {
   "cell_type": "code",
   "execution_count": 116,
   "id": "bce73deb-2361-4a3b-b3f2-547b7cce1b5a",
   "metadata": {},
   "outputs": [
    {
     "data": {
      "text/plain": [
       "Index(['sexe', 'age', 'region', 'type_agglomeration', 'situation_personnelle',\n",
       "       'profession_principale', 'statut_emploi', 'frequence_internet',\n",
       "       'frequence_conso_culturelle', 'type_conso_legale_ou_illegale',\n",
       "       'evolution_conso_legale', 'gratuit_ou_payant',\n",
       "       'depense_mensuelle_culturelle', 'appareils_conso_musique_videos',\n",
       "       'appareils_conso_films_series', 'utilisation_vpn',\n",
       "       'utilisation_applis_crackees', 'utilisation_telechargement_streaming',\n",
       "       'reglages_dns', 'acces_services_payants',\n",
       "       'provenance_codes_acces_exterieurs', 'taille_foyer', 'nb_enfants',\n",
       "       'statut_foyer', ''Des amis'', ''Des amis']',\n",
       "       ''Des codes trouvés gratuitement sur Internet'',\n",
       "       ''Des codes trouvés gratuitement sur Internet']',\n",
       "       ''D’autres personnes']', '['Des amis'', '['Des amis']',\n",
       "       '['Des codes trouvés gratuitement sur Internet'',\n",
       "       '['Des codes trouvés gratuitement sur Internet']',\n",
       "       '['Des membres de ma famille'', '['Des membres de ma famille']',\n",
       "       '['D’autres personnes']', '[]', 'DS', 'PS Vita)', 'Sur un ordinateur',\n",
       "       'Sur un smartphone', 'Sur une console de jeu portable (Nintendo Switch',\n",
       "       'Sur une tablette', 'provenance_simplifiee'],\n",
       "      dtype='object')"
      ]
     },
     "execution_count": 116,
     "metadata": {},
     "output_type": "execute_result"
    }
   ],
   "source": [
    "df.columns"
   ]
  }
 ],
 "metadata": {
  "kernelspec": {
   "display_name": "Python (cuml_env)",
   "language": "python",
   "name": "cuml_env"
  },
  "language_info": {
   "codemirror_mode": {
    "name": "ipython",
    "version": 3
   },
   "file_extension": ".py",
   "mimetype": "text/x-python",
   "name": "python",
   "nbconvert_exporter": "python",
   "pygments_lexer": "ipython3",
   "version": "3.10.18"
  }
 },
 "nbformat": 4,
 "nbformat_minor": 5
}
