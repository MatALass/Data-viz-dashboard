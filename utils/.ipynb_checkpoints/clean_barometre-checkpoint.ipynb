{
 "cells": [
  {
   "cell_type": "code",
   "execution_count": 2,
   "id": "e255208a-283f-42cf-8317-17c8d326bd71",
   "metadata": {},
   "outputs": [],
   "source": [
    "import pandas as pd\n",
    "import numpy as np"
   ]
  },
  {
   "cell_type": "code",
   "execution_count": 3,
   "id": "fb510fdd-1fa3-4eae-8f76-064dd45db38d",
   "metadata": {},
   "outputs": [],
   "source": [
    "df = pd.read_excel(\"../data/barometre_clean.xlsx\")"
   ]
  },
  {
   "cell_type": "code",
   "execution_count": 4,
   "id": "5bcfdfad-4d28-445b-8360-f8be22feb032",
   "metadata": {},
   "outputs": [],
   "source": [
    "replacements = {\n",
    "    \"situation_personnelle\": {\n",
    "        \"Vous êtes dans une autre situation (invalide, sans activité professionnelle...)\": \"autre\",\n",
    "        \"Vous exercez une activité professionnelle (actifs, apprentis, stagiaires)\": \"actif\",\n",
    "        \"Vous êtes chômeur ou chômeuse ayant déjà travaillé\": \"chômeur\",\n",
    "        \"Vous êtes à la retraite ou en pré-retraite\": \"retraite\",\n",
    "        \"Vous êtes homme ou femme au foyer\": \"homme au foyer\",\n",
    "        \"Vous êtes collégien(ne), lycéen(ne) ou étudiant(e)\": \"étudiant\",\n",
    "        \"Vous êtes à la recherche d'un premier emploi\": \"primo-demandeur\",\n",
    "    },\n",
    "    \"type_conso_legale_ou_illegale\": {\n",
    "        \"Uniquement de façon légale\": \"légale\",\n",
    "        \"Généralement légale, parfois illégale\": \"souvent légale\",\n",
    "        \"Autant légale qu’illégale\": \"autant\",\n",
    "        \"Généralement illégale, parfois légale\": \"souvent illégale\",\n",
    "        \"Uniquement de manière illégale\": \"illégale\",\n",
    "    },\n",
    "    \"evolution_conso_legale\": {\n",
    "        \"Consomme autant de façon légale qu’avant\": \"autant légale\",\n",
    "        \"Consomme davantage de façon légale qu’avant\": \"davantage légale\",\n",
    "        \"Consomme moins de façon légale qu’avant\": \"moins légale\",\n",
    "        \"Ne consomme pas du tout de manière légale\": \"pas légale\",\n",
    "    },\n",
    "    \"gratuit_ou_payant\": {\n",
    "        \"Uniquement gratuitement\": \"gratuit\",\n",
    "        \"Le plus souvent gratuitement, mais parfois de façon payante\": \"souvent gratuit\",\n",
    "        \"Autant gratuitement que de façon payante\": \"autant\",\n",
    "        \"Le plus souvent de façon payante, mais parfois gratuitement\": \"souvent payante\",\n",
    "        \"Uniquement de façon payante\": \"payante\",\n",
    "    },\n",
    "    \"utilisation_vpn\": {\n",
    "        \"Non, vous n’avez jamais utilisé de VPN à titre personnel\": \"jamais\",\n",
    "        \"Oui, vous avez occasionnellement utilisé un VPN à titre personnel au cours des 12 derniers mois\": \"occasionnellement\",\n",
    "        \"Oui, vous avez régulièrement utilisé un VPN à titre personnel au cours des 12 derniers mois\": \"régulièrement\",\n",
    "        \"Non, mais vous avez déjà utilisé un VPN par le passé à titre personnel\": \"ancien utilisateur\",\n",
    "    },\n",
    "    \"utilisation_applis_crackees\": {\n",
    "        \"Des applis crackées permettant l’accès gratuit à une offre payante de chaînes de télévision (Canal+, beIN, etc.)\": \"oui\",\n",
    "    },\n",
    "    \"utilisation_telechargement_streaming\": {\n",
    "        \"Autant gratuitement que de façon payante\": \"autant\",\n",
    "        \"Uniquement gratuitement\": \"gratuit\",\n",
    "        \"Le plus souvent de façon payante, mais parfois gratuitement\": \"souvent payante\",\n",
    "        \"Le plus souvent gratuitement, mais parfois de façon payante\": \"souvent gratuit\",\n",
    "        \"Uniquement de façon payante\": \"payante\",\n",
    "    },\n",
    "    \"acces_services_payants\": {\n",
    "        \"Je bénéficie d’un compte d’une personne extérieure à mon foyer\": \"compte partagé\",\n",
    "        \"J’y suis abonné au sein de mon foyer\": \"abonné\",\n",
    "        \"Je n’ai pas accès à ce type d’abonnement\": \"non\",\n",
    "        \"J’y suis abonné au sein de mon foyer, Je bénéficie d’un compte d’une personne extérieure à mon foyer, Je n’ai pas accès à ce type d’abonnement\": \"abonné\",\n",
    "        \"J’y suis abonné au sein de mon foyer, Je n’ai pas accès à ce type d’abonnement\": \"abonné\",\n",
    "        \"Je bénéficie d’un compte d’une personne extérieure à mon foyer, Je n’ai pas accès à ce type d’abonnement\": \"compte partagé\",\n",
    "        \"J’y suis abonné au sein de mon foyer, Je bénéficie d’un compte d’une personne extérieure à mon foyer\": \"abonné\",\n",
    "    },\n",
    "    \"statut_foyer\": {\n",
    "        \"Vous êtes célibataire\": \"célibataire\",\n",
    "        \"Vous vivez en couple\": \"couple\",\n",
    "        \"Vous êtes un enfant vivant chez vos parents\": \"enfant\",\n",
    "    },\n",
    "}"
   ]
  },
  {
   "cell_type": "code",
   "execution_count": 5,
   "id": "18de3a34-c074-4045-b1e0-49493189531d",
   "metadata": {},
   "outputs": [
    {
     "name": "stdout",
     "output_type": "stream",
     "text": [
      "✅ Remplacé situation_personnelle\n",
      "✅ Remplacé type_conso_legale_ou_illegale\n",
      "✅ Remplacé evolution_conso_legale\n",
      "✅ Remplacé gratuit_ou_payant\n",
      "✅ Remplacé utilisation_vpn\n",
      "✅ Remplacé utilisation_applis_crackees\n",
      "✅ Remplacé utilisation_telechargement_streaming\n",
      "✅ Remplacé acces_services_payants\n",
      "✅ Remplacé statut_foyer\n"
     ]
    }
   ],
   "source": [
    "for col, mapping in replacements.items():\n",
    "    if col in df.columns:\n",
    "        df[col] = df[col].replace(mapping)\n",
    "        print(f\"✅ Remplacé {col}\")"
   ]
  },
  {
   "cell_type": "code",
   "execution_count": 6,
   "id": "a9c57f8e-f999-4d26-8ae7-588b98655272",
   "metadata": {},
   "outputs": [],
   "source": [
    "for col in [\"provenance_codes_acces_exterieurs\", \"appareils_conso_musique_videos\"]:\n",
    "    if col in df.columns:\n",
    "        df[col] = (\n",
    "            df[col].astype(str)\n",
    "            .replace(\"nan\", \"\")\n",
    "            .str.split(\",\")\n",
    "            .apply(lambda x: [i.strip() for i in x if i.strip()])\n",
    "        )"
   ]
  },
  {
   "cell_type": "code",
   "execution_count": 7,
   "id": "c94d9d22-3159-402e-a8eb-e0e2ddb760fd",
   "metadata": {},
   "outputs": [],
   "source": [
    "def simplifier_provenance(reponses):\n",
    "    if not reponses or isinstance(reponses, float):\n",
    "        return np.nan\n",
    "    if any(\"Internet\" in r for r in reponses):\n",
    "        return \"internet\"\n",
    "    if any(\"amis\" in r or \"famille\" in r for r in reponses):\n",
    "        return \"proches\"\n",
    "    if any(\"autres\" in r for r in reponses):\n",
    "        return \"autres\"\n",
    "    return \"autres\"\n",
    "\n",
    "if \"provenance_codes_acces_exterieurs\" in df.columns:\n",
    "    df[\"provenance_simplifiee\"] = df[\"provenance_codes_acces_exterieurs\"].apply(simplifier_provenance)"
   ]
  },
  {
   "cell_type": "code",
   "execution_count": 8,
   "id": "d13c57ed-b281-40e9-8925-b009788a0722",
   "metadata": {},
   "outputs": [],
   "source": [
    "cols_keep = [\n",
    "    \"sexe\", \"age\", \"region\", \"type_agglomeration\",\n",
    "    \"situation_personnelle\", \"profession_principale\", \"statut_emploi\",\n",
    "    \"frequence_internet\", \"frequence_conso_culturelle\",\n",
    "    \"type_conso_legale_ou_illegale\", \"evolution_conso_legale\",\n",
    "    \"gratuit_ou_payant\", \"depense_mensuelle_culturelle\",\n",
    "    \"appareils_conso_films_series\", \"utilisation_vpn\",\n",
    "    \"utilisation_applis_crackees\", \"utilisation_telechargement_streaming\",\n",
    "    \"reglages_dns\", \"acces_services_payants\", \"taille_foyer\",\n",
    "    \"nb_enfants\", \"statut_foyer\"\n",
    "]\n",
    "df = df[[c for c in cols_keep if c in df.columns]]"
   ]
  },
  {
   "cell_type": "code",
   "execution_count": 9,
   "id": "372a7c0f-9f2a-40d7-a84b-f4c7aa40b4bf",
   "metadata": {},
   "outputs": [
    {
     "name": "stdout",
     "output_type": "stream",
     "text": [
      "✅ Fichier sauvegardé : file_better.xlsx (5040 lignes × 22 colonnes)\n"
     ]
    }
   ],
   "source": [
    "df.to_excel(\"file_better.xlsx\", index=False, engine=\"openpyxl\")\n",
    "print(f\"✅ Fichier sauvegardé : file_better.xlsx ({df.shape[0]} lignes × {df.shape[1]} colonnes)\")"
   ]
  }
 ],
 "metadata": {
  "kernelspec": {
   "display_name": "Python (cuml_env)",
   "language": "python",
   "name": "cuml_env"
  },
  "language_info": {
   "codemirror_mode": {
    "name": "ipython",
    "version": 3
   },
   "file_extension": ".py",
   "mimetype": "text/x-python",
   "name": "python",
   "nbconvert_exporter": "python",
   "pygments_lexer": "ipython3",
   "version": "3.10.18"
  }
 },
 "nbformat": 4,
 "nbformat_minor": 5
}
