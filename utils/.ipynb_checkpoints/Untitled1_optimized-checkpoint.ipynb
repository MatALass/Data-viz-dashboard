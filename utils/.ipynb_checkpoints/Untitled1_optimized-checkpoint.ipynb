{
 "cells": [
  {
   "cell_type": "code",
   "execution_count": 2,
   "id": "48c1ec79-b7af-4d01-b8a8-e947cdb6fddb",
   "metadata": {},
   "outputs": [],
   "source": [
    "path_data = \"2024-barometre-consommation.xlsx\"\n",
    "df = pd.read_excel(path_data)"
   ]
  },
  {
   "cell_type": "code",
   "execution_count": 3,
   "id": "f88f3d6a-ff97-4647-82c9-ac38ebb3f37d",
   "metadata": {},
   "outputs": [],
   "source": [
    "src_path = \"2024-datamap.xlsx\"\n",
    "df_texts = pd.read_excel(src_path, sheet_name=\"TEXTS\")"
   ]
  },
  {
   "cell_type": "code",
   "execution_count": 35,
   "id": "93d0358c-6393-43d9-856e-8bcde116acf2",
   "metadata": {},
   "outputs": [
    {
     "data": {
      "text/plain": [
       "Index(['Login:', 'Elapsed Time', 'SEXE - Vous êtes... ?',\n",
       "       'AGE - Quel âge avez-vous ? Merci de noter votre âge dans le cadre ci-dessous :',\n",
       "       'QSEXE', 'RAGE1', 'RAGE2', 'RAGE3', 'AGGLOIFOP0', 'AGGLO',\n",
       "       ...\n",
       "       'RS17A - Quel budget consacrez-vous au sein de votre foyer à ces types d’abonnements ? Vous pouvez indiquer un budget mensuel ou annuel. Saisissez vos réponses dans les cadres ci-dessous. Une seule réponse par ligne. € / mois Vos abonnements à_r2_c1',\n",
       "       'RS17A - Quel budget consacrez-vous au sein de votre foyer à ces types d’abonnements ? Vous pouvez indiquer un budget mensuel ou annuel. Saisissez vos réponses dans les cadres ci-dessous. Une seule réponse par ligne. € / mois Vos abonnements à_r3_c1',\n",
       "       'RS17A - Quel budget consacrez-vous au sein de votre foyer à ces types d’abonnements ? Vous pouvez indiquer un budget mensuel ou annuel. Saisissez vos réponses dans les cadres ci-dessous. Une seule réponse par ligne. € / mois Vos abonnements à_r4_c1',\n",
       "       'RS17A - Quel budget consacrez-vous au sein de votre foyer à ces types d’abonnements ? Vous pouvez indiquer un budget mensuel ou annuel. Saisissez vos réponses dans les cadres ci-dessous. Une seule réponse par ligne. € / mois Vos abonnements à_r5_c1',\n",
       "       'RS17A - Quel budget consacrez-vous au sein de votre foyer à ces types d’abonnements ? Vous pouvez indiquer un budget mensuel ou annuel. Saisissez vos réponses dans les cadres ci-dessous. Une seule réponse par ligne. € / mois Vos abonnements à_r6_c1',\n",
       "       'RS17A - Quel budget consacrez-vous au sein de votre foyer à ces types d’abonnements ? Vous pouvez indiquer un budget mensuel ou annuel. Saisissez vos réponses dans les cadres ci-dessous. Une seule réponse par ligne. € / mois Vos abonnements à_r7_c1',\n",
       "       'RS17A - Quel budget consacrez-vous au sein de votre foyer à ces types d’abonnements ? Vous pouvez indiquer un budget mensuel ou annuel. Saisissez vos réponses dans les cadres ci-dessous. Une seule réponse par ligne. € / mois Vos abonnements à_r8_c1',\n",
       "       'RS17A - Quel budget consacrez-vous au sein de votre foyer à ces types d’abonnements ? Vous pouvez indiquer un budget mensuel ou annuel. Saisissez vos réponses dans les cadres ci-dessous. Une seule réponse par ligne. € / mois Vos abonnements à_r9_c1',\n",
       "       'RS17A - Quel budget consacrez-vous au sein de votre foyer à ces types d’abonnements ? Vous pouvez indiquer un budget mensuel ou annuel. Saisissez vos réponses dans les cadres ci-dessous. Une seule réponse par ligne. € / mois Vos abonnements à_r2_c2',\n",
       "       'Randomized Pages'],\n",
       "      dtype='object', length=611)"
      ]
     },
     "execution_count": 35,
     "metadata": {},
     "output_type": "execute_result"
    }
   ],
   "source": [
    "df_cleaned.columns"
   ]
  },
  {
   "cell_type": "code",
   "execution_count": 43,
   "id": "13e6132e-9d8d-49c9-af17-37b63a502597",
   "metadata": {},
   "outputs": [],
   "source": [
    "pd.DataFrame(df_primary.columns, columns=[\"ColumnName\"]).to_csv(\"columns_remaining.csv\", index=False)\n"
   ]
  },
  {
   "cell_type": "code",
   "execution_count": 49,
   "id": "9eefde79-965c-49ea-b67e-067c3898dc6b",
   "metadata": {},
   "outputs": [],
   "source": [
    "df_primary.to_excel(\"baro.xlsx\", index=False, engine='openpyxl')"
   ]
  },
  {
   "cell_type": "code",
   "execution_count": 65,
   "id": "c3c334b7-5915-4d3e-b844-9348601fdf07",
   "metadata": {},
   "outputs": [],
   "source": [
    "df.to_excel(\"new.xlsx\", index=False, engine='openpyxl')"
   ]
  },
  {
   "cell_type": "code",
   "execution_count": 89,
   "id": "8c759385-f82e-4434-9d4c-d5af2fee8566",
   "metadata": {},
   "outputs": [],
   "source": [
    "df.to_excel(\"final.xlsx\", index=False, engine='openpyxl')"
   ]
  },
  {
   "cell_type": "code",
   "execution_count": 95,
   "id": "43abeeea-4f82-4dff-8c9e-2f6d7b072afe",
   "metadata": {},
   "outputs": [],
   "source": [
    "df.to_excel(\"final.xlsx\", index=False, engine='openpyxl')"
   ]
  },
  {
   "cell_type": "code",
   "execution_count": 5,
   "id": "6eb16c9b-9062-4ac6-b94f-a02ac8d837bf",
   "metadata": {},
   "outputs": [
    {
     "ename": "NameError",
     "evalue": "name 'df' is not defined",
     "output_type": "error",
     "traceback": [
      "\u001b[1;31m---------------------------------------------------------------------------\u001b[0m",
      "\u001b[1;31mNameError\u001b[0m                                 Traceback (most recent call last)",
      "Cell \u001b[1;32mIn[5], line 1\u001b[0m\n\u001b[1;32m----> 1\u001b[0m \u001b[43mdf\u001b[49m\u001b[38;5;241m.\u001b[39mto_excel(\u001b[38;5;124m\"\u001b[39m\u001b[38;5;124mfinal.xlsx\u001b[39m\u001b[38;5;124m\"\u001b[39m, index\u001b[38;5;241m=\u001b[39m\u001b[38;5;28;01mFalse\u001b[39;00m, engine\u001b[38;5;241m=\u001b[39m\u001b[38;5;124m'\u001b[39m\u001b[38;5;124mopenpyxl\u001b[39m\u001b[38;5;124m'\u001b[39m)\n",
      "\u001b[1;31mNameError\u001b[0m: name 'df' is not defined"
     ]
    }
   ],
   "source": [
    "df.to_excel(\"final.xlsx\", index=False, engine='openpyxl')\n",
    "df = pd.read_excel(path_data)"
   ]
  },
  {
   "cell_type": "code",
   "execution_count": 15,
   "id": "af94e4ba-e715-4091-a09d-4c0437f356b5",
   "metadata": {},
   "outputs": [
    {
     "data": {
      "text/plain": [
       "['SEXE - Vous êtes... ?',\n",
       " 'AGE - Quel âge avez-vous ? Merci de noter votre âge dans le cadre ci-dessous :',\n",
       " 'AGGLOIFOP0',\n",
       " 'TYPCOM',\n",
       " 'TAILCOM',\n",
       " 'DPT',\n",
       " 'REG',\n",
       " 'SITI - Actuellement, quelle est votre situation ?',\n",
       " 'PPIA - Plus précisément, quelle est votre profession principale ou, si vous ne travaillez pas actuellement, la dernière profession principale que vous avez exercée ? Attention, si vous n’avez fait dans votre vie que des petits boulots (ex : job d',\n",
       " 'RECPPIA',\n",
       " 'STC - Vous exercez cette profession comme… ? Si vous exercez plusieurs emplois, décrivez uniquement votre emploi principal.',\n",
       " 'STCA',\n",
       " 'STATUT - Au sein de votre foyer, quelle est votre situation ?',\n",
       " 'FOYER - De combien de personnes se compose votre foyer y compris vous-même ?',\n",
       " 'ENF - Au total, combien y a-t-il d’enfants de moins de 18 ans dans votre foyer ?',\n",
       " 'RS6 - A quelle fréquence utilisez-vous Internet ou des applications, quels que soient le lieu d’utilisation et l’appareil de connexion ?',\n",
       " 'Q2 - À quelle fréquence consommez-vous sur Internet chacun des produits ou services culturels dématérialisés suivants ? Une réponse par ligne. Vous consommez sur Internet …_r1',\n",
       " 'Q5 - Plus précisément, pour chacun des produits ou services culturels suivants, diriez-vous que vous les consommez… Une réponse par ligne. sur Internet …_r1',\n",
       " 'Q7 - Concernant votre consommation de biens culturels dématérialisés, diriez-vous qu’aujourd’hui :',\n",
       " 'QBU1 - Vous nous avez dit consommer de façon dématérialisée les contenus culturels et sportifs suivants. Veuillez indiquer pour chacun d’eux si vous les consommez gratuitement ou de façon payante. On parle toujours de contenus culturels et spor_r1',\n",
       " 'QBU2 - De façon générale, quel montant dépensez-vous en moyenne chaque mois pour votre consommation de [% ListLabel(Q1List,AFFi1) %] [% ListLabel(Q1List,AFFi2) %] [% ListLabel(Q1List,AFFi3) %] [% ListLabel(Q1List,AFFi4) %] [% ListLabel(Q1List,AFFi5',\n",
       " '- Utilisez-vous des applications « crackées » que vous avez téléchargées sur des stores d’applications alternatifs (comme AppValley ou Tutuapp par exemple) ou via des APKs, permettant l’accès à des offres payantes sans payer ? Vou_1',\n",
       " 'QBU12 - Utilisez-vous des logiciels, des applications ou des sites internet permettant de convertir des contenus consultés en streaming (films, séries, musique vus sur une plateforme) en un contenu à télécharger (qui permettent par exemple de conv_r1',\n",
       " 'RS8 - Et vous arrive-t-il de faire des réglages de DNS ?',\n",
       " 'RS7BIS - Au cours des 12 derniers mois, avez-vous utilisé au moins un VPN à titre personnel ?',\n",
       " 'QBU5a - Et au cours des 12 derniers mois, sur quels appareils avez-vous consommé ces contenus culturels et sportifs la plupart du temps ? Vous pouvez sélectionner plusieurs réponses par ligne. Généralement, …_COMBINED',\n",
       " 'QBU5b - Et au cours des 12 derniers mois, sur quels appareils avez-vous consommé ces contenus culturels et sportifs la plupart du temps ? Vous pouvez sélectionner plusieurs réponses par ligne. Généralement, …_COMBINED',\n",
       " 'RS12BIS - Avez-vous accès aux fournisseurs de services payants suivants ? Attention, nous parlons ici des offres auxquelles vous avez accès en payant (vous ou une autre personne de votre foyer) ou en bénéficiant d’un compte d’une personne ext_COMBINED',\n",
       " 'RS16BIS - À qui appartiennent ces codes d’accès extérieurs à votre foyer que vous utilisez ? Vous pouvez sélectionner plusieurs réponses par ligne. Pour_COMBINED']"
      ]
     },
     "execution_count": 15,
     "metadata": {},
     "output_type": "execute_result"
    }
   ],
   "source": [
    "list(df.columns)\n"
   ]
  },
  {
   "cell_type": "code",
   "execution_count": 11,
   "id": "ee93a785-2cff-478c-9785-0562dd56442a",
   "metadata": {},
   "outputs": [],
   "source": [
    "df = pd.read_csv(\"barometre_final_decoded.csv\")"
   ]
  },
  {
   "cell_type": "code",
   "execution_count": 17,
   "id": "571d16b5-e1f8-49a6-bf7d-191d3b9980b7",
   "metadata": {},
   "outputs": [],
   "source": [
    "# ============================================================\n",
    "# 4️⃣ Nettoyage général\n",
    "# ============================================================\n",
    "df.columns = [c.lower().replace(\" \", \"_\") for c in df.columns]\n",
    "df[\"age\"] = pd.to_numeric(df[\"age\"], errors=\"coerce\").astype(\"Int64\")\n",
    "\n",
    "# Nettoyage texte\n",
    "for c in df.select_dtypes(\"object\").columns:\n",
    "    df[c] = df[c].astype(str).str.strip()\n"
   ]
  },
  {
   "cell_type": "code",
   "execution_count": 43,
   "id": "70fbe37a-b075-407e-bad8-4790dce692c3",
   "metadata": {},
   "outputs": [],
   "source": [
    "df.to_excel(\"barometre_clean.xlsx\", index=False, engine=\"openpyxl\")"
   ]
  }
 ],
 "metadata": {
  "kernelspec": {
   "display_name": "Python (cuml_env)",
   "language": "python",
   "name": "cuml_env"
  },
  "language_info": {
   "codemirror_mode": {
    "name": "ipython",
    "version": 3
   },
   "file_extension": ".py",
   "mimetype": "text/x-python",
   "name": "python",
   "nbconvert_exporter": "python",
   "pygments_lexer": "ipython3",
   "version": "3.10.18"
  }
 },
 "nbformat": 4,
 "nbformat_minor": 5
}
